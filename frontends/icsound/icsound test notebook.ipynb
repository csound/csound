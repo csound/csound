{
 "metadata": {
  "name": "",
  "signature": "sha256:9f464e335c58d36063f2724ee3ecf69965fcffde82b07730e8e503eb4511797f"
 },
 "nbformat": 3,
 "nbformat_minor": 0,
 "worksheets": [
  {
   "cells": [
    {
     "cell_type": "markdown",
     "metadata": {},
     "source": [
      "#Using icsound\n",
      "\n",
      "By: Andres Cabrera mantaraya36@gmail.com"
     ]
    },
    {
     "cell_type": "heading",
     "level": 2,
     "metadata": {},
     "source": [
      "Starting the Csound engine"
     ]
    },
    {
     "cell_type": "markdown",
     "metadata": {},
     "source": [
      "To use *icsound* create an icsound instance:"
     ]
    },
    {
     "cell_type": "code",
     "collapsed": false,
     "input": [
      "%pylab inline"
     ],
     "language": "python",
     "metadata": {},
     "outputs": [
      {
       "output_type": "stream",
       "stream": "stdout",
       "text": [
        "Populating the interactive namespace from numpy and matplotlib\n"
       ]
      }
     ],
     "prompt_number": 1
    },
    {
     "cell_type": "code",
     "collapsed": false,
     "input": [
      "import icsound\n",
      "cs = icsound.icsound()"
     ],
     "language": "python",
     "metadata": {},
     "outputs": [],
     "prompt_number": 2
    },
    {
     "cell_type": "markdown",
     "metadata": {},
     "source": [
      "Then start the engine:"
     ]
    },
    {
     "cell_type": "code",
     "collapsed": false,
     "input": [
      "cs.start_engine()"
     ],
     "language": "python",
     "metadata": {},
     "outputs": [
      {
       "output_type": "stream",
       "stream": "stdout",
       "text": [
        "Csound server started.\n"
       ]
      }
     ],
     "prompt_number": 3
    },
    {
     "cell_type": "markdown",
     "metadata": {},
     "source": [
      "You can set the properties of the Csound engine with parameters to the start_engine() function."
     ]
    },
    {
     "cell_type": "code",
     "collapsed": false,
     "input": [
      "help(cs.start_engine)"
     ],
     "language": "python",
     "metadata": {},
     "outputs": [
      {
       "output_type": "stream",
       "stream": "stdout",
       "text": [
        "Help on method start_engine in module icsound:\n",
        "\n",
        "start_engine(self, sr=44100, ksmps=64, nchnls=2, zerodbfs=1.0, dacout='dac', adcin=None, port=None, buffersize=None) method of icsound.icsound instance\n",
        "    Start the csound engine on a separate thread\n",
        "\n"
       ]
      }
     ],
     "prompt_number": 4
    },
    {
     "cell_type": "markdown",
     "metadata": {},
     "source": [
      "The engine runs in a separate thread, so it doesn't block execution of python."
     ]
    },
    {
     "cell_type": "code",
     "collapsed": false,
     "input": [
      "cs.start_engine()"
     ],
     "language": "python",
     "metadata": {},
     "outputs": [
      {
       "output_type": "stream",
       "stream": "stdout",
       "text": [
        "icsound: Csound already running\n"
       ]
      }
     ],
     "prompt_number": 5
    },
    {
     "cell_type": "markdown",
     "metadata": {},
     "source": [
      "Use the *%%csound* magic command to directly type csound language code in the cell and send it to the current engine."
     ]
    },
    {
     "cell_type": "code",
     "collapsed": false,
     "input": [
      "%%csound\n",
      "gkinstr init 1"
     ],
     "language": "python",
     "metadata": {},
     "outputs": [],
     "prompt_number": 6
    },
    {
     "cell_type": "code",
     "collapsed": false,
     "input": [
      "%%csound\n",
      "print i(gkinstr)"
     ],
     "language": "python",
     "metadata": {},
     "outputs": [],
     "prompt_number": 7
    },
    {
     "cell_type": "markdown",
     "metadata": {},
     "source": [
      "So where did it print?"
     ]
    },
    {
     "cell_type": "code",
     "collapsed": false,
     "input": [
      "cs.print_log()"
     ],
     "language": "python",
     "metadata": {},
     "outputs": [
      {
       "output_type": "stream",
       "stream": "stdout",
       "text": [
        "WARNING: STK opodes not available: define environment variable RAWWAVE_PATH\n",
        "(points to rawwaves directory) to use STK opcodes.\n",
        "rtaudio: ALSA module enabled\n",
        "rtmidi: ALSA Raw MIDI module enabled\n",
        "--Csound version 6.05 (double samples) Jul 12 2015\n",
        "graphics suppressed, ascii substituted\n",
        "0dBFS level = 1.0\n",
        "orch now loaded\n",
        "audio buffered in 256 sample-frame blocks\n",
        "ALSA output: total buffer size: 1024, period size: 256 \n",
        "writing 512 sample blks of 64-bit floats to dac \n",
        "SECTION 1:\n",
        "instr 0:  #i0 = 1.000\n",
        "\n"
       ]
      }
     ],
     "prompt_number": 8
    },
    {
     "cell_type": "markdown",
     "metadata": {},
     "source": [
      "By default, messages from Csound are not shown, but they are stored in an internal buffer. You can view them with the print_log() function. If the log is getting too long and cinfusing, use the clear_log() function."
     ]
    },
    {
     "cell_type": "heading",
     "level": 2,
     "metadata": {},
     "source": [
      "Function tables"
     ]
    },
    {
     "cell_type": "markdown",
     "metadata": {},
     "source": [
      "You can create csound f-tables directly from python lists or numpy arrays:"
     ]
    },
    {
     "cell_type": "code",
     "collapsed": false,
     "input": [
      "cs.fill_table(1, [4,5,7,0,8,7,9])\n",
      "cs.fill_table(2, array([8,7,9, 1, 1, 1]))"
     ],
     "language": "python",
     "metadata": {},
     "outputs": [],
     "prompt_number": 9
    },
    {
     "cell_type": "markdown",
     "metadata": {},
     "source": [
      "Tables can be plotted in the usual matplotlib way, but icsound provides a plot_table function which styles the graphs."
     ]
    },
    {
     "cell_type": "code",
     "collapsed": false,
     "input": [
      "cs.plot_table(1)\n",
      "cs.plot_table(2, reuse=True)\n",
      "grid()"
     ],
     "language": "python",
     "metadata": {},
     "outputs": [
      {
       "metadata": {},
       "output_type": "display_data",
       "png": "[encoded data removed]",
       "text": [
        "<matplotlib.figure.Figure at 0x7fd4c00ec2d0>"
       ]
      }
     ],
     "prompt_number": 10
    },
    {
     "cell_type": "markdown",
     "metadata": {},
     "source": [
      "You can get the function table values from the csound instance:"
     ]
    },
    {
     "cell_type": "code",
     "collapsed": false,
     "input": [
      "cs.get_table_data(1)"
     ],
     "language": "python",
     "metadata": {},
     "outputs": [
      {
       "metadata": {},
       "output_type": "pyout",
       "prompt_number": 11,
       "text": [
        "array([ 4.,  5.,  7.,  0.,  8.,  7.], dtype=float32)"
       ]
      }
     ],
     "prompt_number": 11
    },
    {
     "cell_type": "code",
     "collapsed": false,
     "input": [
      "cs.make_table(2, 1024, 10, 1)\n",
      "cs.make_table(3, 1024, -10, 0.5, 1)\n",
      "cs.plot_table(2)\n",
      "cs.plot_table(3, reuse=True)\n",
      "#ylim((-1.1,1.1))"
     ],
     "language": "python",
     "metadata": {},
     "outputs": [
      {
       "metadata": {},
       "output_type": "display_data",
       "png": "[encoded data removed]",
       "text": [
        "<matplotlib.figure.Figure at 0x7fd4d3962cd0>"
       ]
      }
     ],
     "prompt_number": 12
    },
    {
     "cell_type": "code",
     "collapsed": false,
     "input": [
      "cs.get_table_data(2)[100: 105]"
     ],
     "language": "python",
     "metadata": {},
     "outputs": [
      {
       "metadata": {},
       "output_type": "pyout",
       "prompt_number": 13,
       "text": [
        "array([ 0.57580817,  0.58081394,  0.58579785,  0.59075969,  0.59569931], dtype=float32)"
       ]
      }
     ],
     "prompt_number": 13
    },
    {
     "cell_type": "markdown",
     "metadata": {},
     "source": [
      "If ctypes is available in your system, icsound will use it to significantly speed up data transfer to and from Csound f-tables. The following will create 320 tables with 720 points each:"
     ]
    },
    {
     "cell_type": "code",
     "collapsed": false,
     "input": [
      "randsig = random.random((320, 720))\n",
      "i = 0\n",
      "for i,row in enumerate(randsig):\n",
      "    cs.fill_table(50 + i, row)\n",
      "    print i, '..', "
     ],
     "language": "python",
     "metadata": {},
     "outputs": [
      {
       "output_type": "stream",
       "stream": "stdout",
       "text": [
        "0 .. 1 .. "
       ]
      },
      {
       "output_type": "stream",
       "stream": "stdout",
       "text": [
        "2 .. 3 .. 4 .. "
       ]
      },
      {
       "output_type": "stream",
       "stream": "stdout",
       "text": [
        "5 .. 6 .. 7 .. "
       ]
      },
      {
       "output_type": "stream",
       "stream": "stdout",
       "text": [
        "8 .. 9 .. 10 .. "
       ]
      },
      {
       "output_type": "stream",
       "stream": "stdout",
       "text": [
        "11 .. "
       ]
      },
      {
       "output_type": "stream",
       "stream": "stdout",
       "text": [
        "12 .. "
       ]
      },
      {
       "output_type": "stream",
       "stream": "stdout",
       "text": [
        "13 .. 14 .. 15 .. "
       ]
      },
      {
       "output_type": "stream",
       "stream": "stdout",
       "text": [
        "16 .. 17 .. 18 .. "
       ]
      },
      {
       "output_type": "stream",
       "stream": "stdout",
       "text": [
        "19 .. "
       ]
      },
      {
       "output_type": "stream",
       "stream": "stdout",
       "text": [
        "20 .. 21 .. 22 .. "
       ]
      },
      {
       "output_type": "stream",
       "stream": "stdout",
       "text": [
        "23 .. 24 .. "
       ]
      },
      {
       "output_type": "stream",
       "stream": "stdout",
       "text": [
        "25 .. "
       ]
      },
      {
       "output_type": "stream",
       "stream": "stdout",
       "text": [
        "26 .. 27 .. 28 .. 29 .. "
       ]
      },
      {
       "output_type": "stream",
       "stream": "stdout",
       "text": [
        "30 .. "
       ]
      },
      {
       "output_type": "stream",
       "stream": "stdout",
       "text": [
        "31 .. 32 .. "
       ]
      },
      {
       "output_type": "stream",
       "stream": "stdout",
       "text": [
        "33 .. 34 .. "
       ]
      },
      {
       "output_type": "stream",
       "stream": "stdout",
       "text": [
        "35 .. 36 .. "
       ]
      },
      {
       "output_type": "stream",
       "stream": "stdout",
       "text": [
        "37 .. 38 .. 39 .. "
       ]
      },
      {
       "output_type": "stream",
       "stream": "stdout",
       "text": [
        "40 .. 41 .. 42 .. "
       ]
      },
      {
       "output_type": "stream",
       "stream": "stdout",
       "text": [
        "43 .. 44 .. 45 .. "
       ]
      },
      {
       "output_type": "stream",
       "stream": "stdout",
       "text": [
        "46 .. 47 .. "
       ]
      },
      {
       "output_type": "stream",
       "stream": "stdout",
       "text": [
        "48 .. "
       ]
      },
      {
       "output_type": "stream",
       "stream": "stdout",
       "text": [
        "49 .. 50 .. 51 .. "
       ]
      },
      {
       "output_type": "stream",
       "stream": "stdout",
       "text": [
        "52 .. 53 .. "
       ]
      },
      {
       "output_type": "stream",
       "stream": "stdout",
       "text": [
        "54 .. 55 .. "
       ]
      },
      {
       "output_type": "stream",
       "stream": "stdout",
       "text": [
        "56 .. 57 .. "
       ]
      },
      {
       "output_type": "stream",
       "stream": "stdout",
       "text": [
        "58 .. 59 .. "
       ]
      },
      {
       "output_type": "stream",
       "stream": "stdout",
       "text": [
        "60 .. "
       ]
      },
      {
       "output_type": "stream",
       "stream": "stdout",
       "text": [
        "61 .. "
       ]
      },
      {
       "output_type": "stream",
       "stream": "stdout",
       "text": [
        "62 .. 63 .. "
       ]
      },
      {
       "output_type": "stream",
       "stream": "stdout",
       "text": [
        "64 .. "
       ]
      },
      {
       "output_type": "stream",
       "stream": "stdout",
       "text": [
        "65 .. 66 .. 67 .. "
       ]
      },
      {
       "output_type": "stream",
       "stream": "stdout",
       "text": [
        "68 .. 69 .. 70 .. "
       ]
      },
      {
       "output_type": "stream",
       "stream": "stdout",
       "text": [
        "71 .. 72 .. 73 .. "
       ]
      },
      {
       "output_type": "stream",
       "stream": "stdout",
       "text": [
        "74 .. 75 .. "
       ]
      },
      {
       "output_type": "stream",
       "stream": "stdout",
       "text": [
        "76 .. 77 .. "
       ]
      },
      {
       "output_type": "stream",
       "stream": "stdout",
       "text": [
        "78 .. 79 .. "
       ]
      },
      {
       "output_type": "stream",
       "stream": "stdout",
       "text": [
        "80 .. "
       ]
      },
      {
       "output_type": "stream",
       "stream": "stdout",
       "text": [
        "81 .. "
       ]
      },
      {
       "output_type": "stream",
       "stream": "stdout",
       "text": [
        "82 .. "
       ]
      },
      {
       "output_type": "stream",
       "stream": "stdout",
       "text": [
        "83 .. "
       ]
      },
      {
       "output_type": "stream",
       "stream": "stdout",
       "text": [
        "84 .. 85 .. "
       ]
      },
      {
       "output_type": "stream",
       "stream": "stdout",
       "text": [
        "86 .. 87 .. 88 .. "
       ]
      },
      {
       "output_type": "stream",
       "stream": "stdout",
       "text": [
        "89 .. 90 .. 91 .. "
       ]
      },
      {
       "output_type": "stream",
       "stream": "stdout",
       "text": [
        "92 .. 93 .. 94 .. "
       ]
      },
      {
       "output_type": "stream",
       "stream": "stdout",
       "text": [
        "95 .. 96 .. "
       ]
      },
      {
       "output_type": "stream",
       "stream": "stdout",
       "text": [
        "97 .. 98 .. 99 .. 100 .. "
       ]
      },
      {
       "output_type": "stream",
       "stream": "stdout",
       "text": [
        "101 .. "
       ]
      },
      {
       "output_type": "stream",
       "stream": "stdout",
       "text": [
        "102 .. 103 .. 104 .. "
       ]
      },
      {
       "output_type": "stream",
       "stream": "stdout",
       "text": [
        "105 .. 106 .. 107 .. "
       ]
      },
      {
       "output_type": "stream",
       "stream": "stdout",
       "text": [
        "108 .. "
       ]
      },
      {
       "output_type": "stream",
       "stream": "stdout",
       "text": [
        "109 .. 110 .. "
       ]
      },
      {
       "output_type": "stream",
       "stream": "stdout",
       "text": [
        "111 .. "
       ]
      },
      {
       "output_type": "stream",
       "stream": "stdout",
       "text": [
        "112 .. 113 .. 114 .. 115 .. "
       ]
      },
      {
       "output_type": "stream",
       "stream": "stdout",
       "text": [
        "116 .. "
       ]
      },
      {
       "output_type": "stream",
       "stream": "stdout",
       "text": [
        "117 .. 118 .. "
       ]
      },
      {
       "output_type": "stream",
       "stream": "stdout",
       "text": [
        "119 .. 120 .. 121 .. 122 .. "
       ]
      },
      {
       "output_type": "stream",
       "stream": "stdout",
       "text": [
        "123 .. "
       ]
      },
      {
       "output_type": "stream",
       "stream": "stdout",
       "text": [
        "124 .. 125 .. "
       ]
      },
      {
       "output_type": "stream",
       "stream": "stdout",
       "text": [
        "126 .. 127 .. 128 .. "
       ]
      },
      {
       "output_type": "stream",
       "stream": "stdout",
       "text": [
        "129 .. 130 .. "
       ]
      },
      {
       "output_type": "stream",
       "stream": "stdout",
       "text": [
        "131 .. 132 .. "
       ]
      },
      {
       "output_type": "stream",
       "stream": "stdout",
       "text": [
        "133 .. 134 .. "
       ]
      },
      {
       "output_type": "stream",
       "stream": "stdout",
       "text": [
        "135 .. 136 .. 137 .. 138 .. "
       ]
      },
      {
       "output_type": "stream",
       "stream": "stdout",
       "text": [
        "139 .. 140 .. "
       ]
      },
      {
       "output_type": "stream",
       "stream": "stdout",
       "text": [
        "141 .. "
       ]
      },
      {
       "output_type": "stream",
       "stream": "stdout",
       "text": [
        "142 .. 143 .. "
       ]
      },
      {
       "output_type": "stream",
       "stream": "stdout",
       "text": [
        "144 .. 145 .. 146 .. "
       ]
      },
      {
       "output_type": "stream",
       "stream": "stdout",
       "text": [
        "147 .. "
       ]
      },
      {
       "output_type": "stream",
       "stream": "stdout",
       "text": [
        "148 .. 149 .. 150 .. "
       ]
      },
      {
       "output_type": "stream",
       "stream": "stdout",
       "text": [
        "151 .. 152 .. 153 .. "
       ]
      },
      {
       "output_type": "stream",
       "stream": "stdout",
       "text": [
        "154 .. 155 .. 156 .. 157 .. "
       ]
      },
      {
       "output_type": "stream",
       "stream": "stdout",
       "text": [
        "158 .. 159 .. 160 .. "
       ]
      },
      {
       "output_type": "stream",
       "stream": "stdout",
       "text": [
        "161 .. 162 .. "
       ]
      },
      {
       "output_type": "stream",
       "stream": "stdout",
       "text": [
        "163 .. 164 .. "
       ]
      },
      {
       "output_type": "stream",
       "stream": "stdout",
       "text": [
        "165 .. 166 .. 167 .. "
       ]
      },
      {
       "output_type": "stream",
       "stream": "stdout",
       "text": [
        "168 .. 169 .. "
       ]
      },
      {
       "output_type": "stream",
       "stream": "stdout",
       "text": [
        "170 .. 171 .. 172 .. 173 .. "
       ]
      },
      {
       "output_type": "stream",
       "stream": "stdout",
       "text": [
        "174 .. "
       ]
      },
      {
       "output_type": "stream",
       "stream": "stdout",
       "text": [
        "175 .. 176 .. 177 .. "
       ]
      },
      {
       "output_type": "stream",
       "stream": "stdout",
       "text": [
        "178 .. "
       ]
      },
      {
       "output_type": "stream",
       "stream": "stdout",
       "text": [
        "179 .. "
       ]
      },
      {
       "output_type": "stream",
       "stream": "stdout",
       "text": [
        "180 .. "
       ]
      },
      {
       "output_type": "stream",
       "stream": "stdout",
       "text": [
        "181 .. 182 .. "
       ]
      },
      {
       "output_type": "stream",
       "stream": "stdout",
       "text": [
        "183 .. 184 .. "
       ]
      },
      {
       "output_type": "stream",
       "stream": "stdout",
       "text": [
        "185 .. "
       ]
      },
      {
       "output_type": "stream",
       "stream": "stdout",
       "text": [
        "186 .. "
       ]
      },
      {
       "output_type": "stream",
       "stream": "stdout",
       "text": [
        "187 .. "
       ]
      },
      {
       "output_type": "stream",
       "stream": "stdout",
       "text": [
        "188 .. 189 .. "
       ]
      },
      {
       "output_type": "stream",
       "stream": "stdout",
       "text": [
        "190 .. 191 .. 192 .. 193 .. "
       ]
      },
      {
       "output_type": "stream",
       "stream": "stdout",
       "text": [
        "194 .. 195 .. "
       ]
      },
      {
       "output_type": "stream",
       "stream": "stdout",
       "text": [
        "196 .. 197 .. "
       ]
      },
      {
       "output_type": "stream",
       "stream": "stdout",
       "text": [
        "198 .. 199 .. "
       ]
      },
      {
       "output_type": "stream",
       "stream": "stdout",
       "text": [
        "200 .. 201 .. "
       ]
      },
      {
       "output_type": "stream",
       "stream": "stdout",
       "text": [
        "202 .. 203 .. 204 .. "
       ]
      },
      {
       "output_type": "stream",
       "stream": "stdout",
       "text": [
        "205 .. 206 .. 207 .. "
       ]
      },
      {
       "output_type": "stream",
       "stream": "stdout",
       "text": [
        "208 .. 209 .. 210 .. "
       ]
      },
      {
       "output_type": "stream",
       "stream": "stdout",
       "text": [
        "211 .. 212 .. "
       ]
      },
      {
       "output_type": "stream",
       "stream": "stdout",
       "text": [
        "213 .. 214 .. 215 .. "
       ]
      },
      {
       "output_type": "stream",
       "stream": "stdout",
       "text": [
        "216 .. 217 .. "
       ]
      },
      {
       "output_type": "stream",
       "stream": "stdout",
       "text": [
        "218 .. "
       ]
      },
      {
       "output_type": "stream",
       "stream": "stdout",
       "text": [
        "219 .. 220 .. 221 .. "
       ]
      },
      {
       "output_type": "stream",
       "stream": "stdout",
       "text": [
        "222 .. "
       ]
      },
      {
       "output_type": "stream",
       "stream": "stdout",
       "text": [
        "223 .. 224 .. 225 .. "
       ]
      },
      {
       "output_type": "stream",
       "stream": "stdout",
       "text": [
        "226 .. 227 .. 228 .. "
       ]
      },
      {
       "output_type": "stream",
       "stream": "stdout",
       "text": [
        "229 .. 230 .. 231 .. "
       ]
      },
      {
       "output_type": "stream",
       "stream": "stdout",
       "text": [
        "232 .. 233 .. 234 .. "
       ]
      },
      {
       "output_type": "stream",
       "stream": "stdout",
       "text": [
        "235 .. 236 .. "
       ]
      },
      {
       "output_type": "stream",
       "stream": "stdout",
       "text": [
        "237 .. "
       ]
      },
      {
       "output_type": "stream",
       "stream": "stdout",
       "text": [
        "238 .. 239 .. "
       ]
      },
      {
       "output_type": "stream",
       "stream": "stdout",
       "text": [
        "240 .. "
       ]
      },
      {
       "output_type": "stream",
       "stream": "stdout",
       "text": [
        "241 .. 242 .. 243 .. "
       ]
      },
      {
       "output_type": "stream",
       "stream": "stdout",
       "text": [
        "244 .. 245 .. 246 .. "
       ]
      },
      {
       "output_type": "stream",
       "stream": "stdout",
       "text": [
        "247 .. 248 .. 249 .. "
       ]
      },
      {
       "output_type": "stream",
       "stream": "stdout",
       "text": [
        "250 .. 251 .. "
       ]
      },
      {
       "output_type": "stream",
       "stream": "stdout",
       "text": [
        "252 .. 253 .. "
       ]
      },
      {
       "output_type": "stream",
       "stream": "stdout",
       "text": [
        "254 .. 255 .. 256 .. "
       ]
      },
      {
       "output_type": "stream",
       "stream": "stdout",
       "text": [
        "257 .. 258 .. 259 .. "
       ]
      },
      {
       "output_type": "stream",
       "stream": "stdout",
       "text": [
        "260 .. "
       ]
      },
      {
       "output_type": "stream",
       "stream": "stdout",
       "text": [
        "261 .. 262 .. 263 .. "
       ]
      },
      {
       "output_type": "stream",
       "stream": "stdout",
       "text": [
        "264 .. "
       ]
      },
      {
       "output_type": "stream",
       "stream": "stdout",
       "text": [
        "265 .. 266 .. "
       ]
      },
      {
       "output_type": "stream",
       "stream": "stdout",
       "text": [
        "267 .. 268 .. 269 .. 270 .. "
       ]
      },
      {
       "output_type": "stream",
       "stream": "stdout",
       "text": [
        "271 .. "
       ]
      },
      {
       "output_type": "stream",
       "stream": "stdout",
       "text": [
        "272 .. 273 .. "
       ]
      },
      {
       "output_type": "stream",
       "stream": "stdout",
       "text": [
        "274 .. 275 .. 276 .. "
       ]
      },
      {
       "output_type": "stream",
       "stream": "stdout",
       "text": [
        "277 .. 278 .. "
       ]
      },
      {
       "output_type": "stream",
       "stream": "stdout",
       "text": [
        "279 .. 280 .. "
       ]
      },
      {
       "output_type": "stream",
       "stream": "stdout",
       "text": [
        "281 .. 282 .. 283 .. "
       ]
      },
      {
       "output_type": "stream",
       "stream": "stdout",
       "text": [
        "284 .. 285 .. 286 .. "
       ]
      },
      {
       "output_type": "stream",
       "stream": "stdout",
       "text": [
        "287 .. 288 .. "
       ]
      },
      {
       "output_type": "stream",
       "stream": "stdout",
       "text": [
        "289 .. 290 .. 291 .. "
       ]
      },
      {
       "output_type": "stream",
       "stream": "stdout",
       "text": [
        "292 .. 293 .. "
       ]
      },
      {
       "output_type": "stream",
       "stream": "stdout",
       "text": [
        "294 .. "
       ]
      },
      {
       "output_type": "stream",
       "stream": "stdout",
       "text": [
        "295 .. 296 .. "
       ]
      },
      {
       "output_type": "stream",
       "stream": "stdout",
       "text": [
        "297 .. 298 .. "
       ]
      },
      {
       "output_type": "stream",
       "stream": "stdout",
       "text": [
        "299 .. 300 .. "
       ]
      },
      {
       "output_type": "stream",
       "stream": "stdout",
       "text": [
        "301 .. 302 .. 303 .. "
       ]
      },
      {
       "output_type": "stream",
       "stream": "stdout",
       "text": [
        "304 .. 305 .. 306 .. 307 .. "
       ]
      },
      {
       "output_type": "stream",
       "stream": "stdout",
       "text": [
        "308 .. "
       ]
      },
      {
       "output_type": "stream",
       "stream": "stdout",
       "text": [
        "309 .. 310 .. "
       ]
      },
      {
       "output_type": "stream",
       "stream": "stdout",
       "text": [
        "311 .. 312 .. 313 .. 314 .. "
       ]
      },
      {
       "output_type": "stream",
       "stream": "stdout",
       "text": [
        "315 .. 316 .. "
       ]
      },
      {
       "output_type": "stream",
       "stream": "stdout",
       "text": [
        "317 .. 318 .. "
       ]
      },
      {
       "output_type": "stream",
       "stream": "stdout",
       "text": [
        "319 ..\n"
       ]
      }
     ],
     "prompt_number": 14
    },
    {
     "cell_type": "code",
     "collapsed": false,
     "input": [
      "cs.plot_table(104)"
     ],
     "language": "python",
     "metadata": {},
     "outputs": [
      {
       "metadata": {},
       "output_type": "display_data",
       "png": "[encoded data removed]",
       "text": [
        "<matplotlib.figure.Figure at 0x7fd4b5841710>"
       ]
      }
     ],
     "prompt_number": 15
    },
    {
     "cell_type": "heading",
     "level": 2,
     "metadata": {},
     "source": [
      "Sending instruments"
     ]
    },
    {
     "cell_type": "markdown",
     "metadata": {},
     "source": [
      "You can send instruments to the running csound engine with the *%%csound* magic. Any syntax errors will be displayed inline."
     ]
    },
    {
     "cell_type": "code",
     "collapsed": false,
     "input": [
      "%%csound\n",
      "instr 1\n",
      "asig asds"
     ],
     "language": "python",
     "metadata": {},
     "outputs": [
      {
       "output_type": "stream",
       "stream": "stdout",
       "text": [
        "\n",
        "error: syntax error, unexpected T_IDENT  (token \"asds\") line 3:\n",
        ">>>asig asds <<<\n",
        "Unexpected untyped word asig when expecting a variable\n",
        "Parsing failed due to invalid input!\n",
        "Stopping on parser failure\n",
        "\n"
       ]
      }
     ],
     "prompt_number": 16
    },
    {
     "cell_type": "code",
     "collapsed": false,
     "input": [
      "%%csound\n",
      "instr 1\n",
      "asig oscil 0.5, 440\n",
      "outs asig, asig\n"
     ],
     "language": "python",
     "metadata": {},
     "outputs": [
      {
       "output_type": "stream",
       "stream": "stdout",
       "text": [
        "\n",
        "error: syntax error, unexpected $end  (token \"\") line 6:\n",
        ">>>outs asig, asig <<<\n",
        "Parsing failed due to invalid input!\n",
        "Stopping on parser failure\n",
        "\n"
       ]
      }
     ],
     "prompt_number": 17
    },
    {
     "cell_type": "code",
     "collapsed": false,
     "input": [
      "%%csound\n",
      "instr 1\n",
      "asig oscil 0.5, 440\n",
      "outs asig, asig\n",
      "endin"
     ],
     "language": "python",
     "metadata": {},
     "outputs": [],
     "prompt_number": 18
    },
    {
     "cell_type": "heading",
     "level": 2,
     "metadata": {},
     "source": [
      "Channels"
     ]
    },
    {
     "cell_type": "markdown",
     "metadata": {},
     "source": [
      "Csound channels can be used to send values to Csound. They can affect running instances of instruments by using the invalue/chnget opcodes:"
     ]
    },
    {
     "cell_type": "code",
     "collapsed": false,
     "input": [
      "cs.set_channel(\"val\", 20)"
     ],
     "language": "python",
     "metadata": {},
     "outputs": [],
     "prompt_number": 21
    },
    {
     "cell_type": "markdown",
     "metadata": {},
     "source": [
      "You can also read the channels from Csound. These channels can be set from icsound or within instruments with the outvalue/chnset opcodes:"
     ]
    },
    {
     "cell_type": "code",
     "collapsed": false,
     "input": [
      "cs.get_channel(\"val\")"
     ],
     "language": "python",
     "metadata": {},
     "outputs": [
      {
       "metadata": {},
       "output_type": "pyout",
       "prompt_number": 22,
       "text": [
        "20.0"
       ]
      }
     ],
     "prompt_number": 22
    },
    {
     "cell_type": "heading",
     "level": 2,
     "metadata": {},
     "source": [
      "Recording the output"
     ]
    },
    {
     "cell_type": "markdown",
     "metadata": {},
     "source": [
      "You can record the realtime output from csound: (This requires Csound 6.04 - unrealeased as of this writing...)"
     ]
    },
    {
     "cell_type": "code",
     "collapsed": false,
     "input": [
      "cs.start_record(\"out.wav\")"
     ],
     "language": "python",
     "metadata": {},
     "outputs": [],
     "prompt_number": 23
    },
    {
     "cell_type": "code",
     "collapsed": false,
     "input": [
      "cs.send_score(\"i 1 0 1\")\n",
      "import time\n",
      "time.sleep(1)"
     ],
     "language": "python",
     "metadata": {},
     "outputs": [],
     "prompt_number": 24
    },
    {
     "cell_type": "code",
     "collapsed": false,
     "input": [
      "cs.stop_record()"
     ],
     "language": "python",
     "metadata": {},
     "outputs": [],
     "prompt_number": 25
    },
    {
     "cell_type": "code",
     "collapsed": false,
     "input": [
      "!aplay out.wav"
     ],
     "language": "python",
     "metadata": {},
     "outputs": [
      {
       "output_type": "stream",
       "stream": "stdout",
       "text": [
        "Playing WAVE 'out.wav' : Signed 16 bit Little Endian, Rate 44100 Hz, Stereo\r\n"
       ]
      }
     ],
     "prompt_number": 26
    },
    {
     "cell_type": "heading",
     "level": 2,
     "metadata": {},
     "source": [
      "Remote engines"
     ]
    },
    {
     "cell_type": "markdown",
     "metadata": {},
     "source": [
      "You can also interact with engines through UDP. Note that not all operations are available, notably reading f-tables, but you can send instruments and note events to the remote engine."
     ]
    },
    {
     "cell_type": "code",
     "collapsed": false,
     "input": [
      "cs_client = icsound.icsound()\n",
      "cs_client.start_client()"
     ],
     "language": "python",
     "metadata": {},
     "outputs": []
    },
    {
     "cell_type": "code",
     "collapsed": false,
     "input": [
      "cs.clear_log()"
     ],
     "language": "python",
     "metadata": {},
     "outputs": []
    },
    {
     "cell_type": "markdown",
     "metadata": {},
     "source": [
      "Now send notes and instruments from the client:"
     ]
    },
    {
     "cell_type": "code",
     "collapsed": false,
     "input": [
      "cs_client.send_score(\"i 1 0 1\")\n",
      "cs_client.send_code(\"print i(gkinstr)\")"
     ],
     "language": "python",
     "metadata": {},
     "outputs": []
    },
    {
     "cell_type": "markdown",
     "metadata": {},
     "source": [
      "And show the log in the server:"
     ]
    },
    {
     "cell_type": "code",
     "collapsed": false,
     "input": [
      "cs.print_log()"
     ],
     "language": "python",
     "metadata": {},
     "outputs": []
    },
    {
     "cell_type": "heading",
     "level": 2,
     "metadata": {},
     "source": [
      "Stopping the engine"
     ]
    },
    {
     "cell_type": "code",
     "collapsed": false,
     "input": [
      "cs.stop_engine()"
     ],
     "language": "python",
     "metadata": {},
     "outputs": []
    },
    {
     "cell_type": "code",
     "collapsed": false,
     "input": [
      "cs"
     ],
     "language": "python",
     "metadata": {},
     "outputs": []
    },
    {
     "cell_type": "code",
     "collapsed": false,
     "input": [
      "cs.stop_engine()"
     ],
     "language": "python",
     "metadata": {},
     "outputs": []
    },
    {
     "cell_type": "heading",
     "level": 2,
     "metadata": {},
     "source": [
      "Audification"
     ]
    },
    {
     "cell_type": "markdown",
     "metadata": {},
     "source": [
      "Reading Earthquake data through a web API:"
     ]
    },
    {
     "cell_type": "code",
     "collapsed": false,
     "input": [
      "prefix = 'http://service.iris.edu/irisws/timeseries/1/query?'\n",
      "SCNL_parameters = 'net=IU&sta=ANMO&loc=00&cha=BHZ&'\n",
      "times = 'starttime=2005-01-01T00:00:00&endtime=2005-01-02T00:00:00&'\n",
      "output = 'output=ascii'\n",
      "import urllib2\n",
      "f = urllib2.urlopen(prefix + SCNL_parameters + times + output)\n",
      "timeseries = f.read()"
     ],
     "language": "python",
     "metadata": {},
     "outputs": [],
     "prompt_number": 27
    },
    {
     "cell_type": "code",
     "collapsed": false,
     "input": [
      "data = timeseries.split('\\n')\n",
      "dates = []\n",
      "values = []\n",
      "\n",
      "for line in data[1:-1]:\n",
      "    date, val = line.split()\n",
      "    dates.append(date)\n",
      "    values.append(float(val))\n",
      "\n",
      "plot(values)"
     ],
     "language": "python",
     "metadata": {},
     "outputs": [
      {
       "metadata": {},
       "output_type": "pyout",
       "prompt_number": 28,
       "text": [
        "[<matplotlib.lines.Line2D at 0x7fd4b55d4790>]"
       ]
      },
      {
       "metadata": {},
       "output_type": "display_data",
       "png": "[encoded data removed]",
       "text": [
        "<matplotlib.figure.Figure at 0x7fd4b54b4e10>"
       ]
      }
     ],
     "prompt_number": 28
    },
    {
     "cell_type": "code",
     "collapsed": false,
     "input": [
      "cs.start_engine()\n",
      "cs.fill_table(1, values)"
     ],
     "language": "python",
     "metadata": {},
     "outputs": [
      {
       "output_type": "stream",
       "stream": "stdout",
       "text": [
        "icsound: Csound already running\n"
       ]
      }
     ],
     "prompt_number": 29
    },
    {
     "cell_type": "markdown",
     "metadata": {},
     "source": [
      "Instrument to play back the earthquake data stored in a table:"
     ]
    },
    {
     "cell_type": "code",
     "collapsed": false,
     "input": [
      "%%csound\n",
      "instr 1\n",
      "idur = p3\n",
      "itable = p4\n",
      "asig poscil 1/8000, 1/p3, p4\n",
      "outs asig, asig\n",
      "endin"
     ],
     "language": "python",
     "metadata": {},
     "outputs": [],
     "prompt_number": 30
    },
    {
     "cell_type": "markdown",
     "metadata": {},
     "source": [
      "Listen:"
     ]
    },
    {
     "cell_type": "code",
     "collapsed": false,
     "input": [
      "cs.send_score('i 1 0 3 1')"
     ],
     "language": "python",
     "metadata": {},
     "outputs": [],
     "prompt_number": 32
    },
    {
     "cell_type": "markdown",
     "metadata": {},
     "source": [
      "Slower:"
     ]
    },
    {
     "cell_type": "code",
     "collapsed": false,
     "input": [
      "cs.send_score('i 1 0 7 1')"
     ],
     "language": "python",
     "metadata": {},
     "outputs": [],
     "prompt_number": 33
    },
    {
     "cell_type": "code",
     "collapsed": false,
     "input": [
      "cs.send_score('i 1 0 1 1')"
     ],
     "language": "python",
     "metadata": {},
     "outputs": [],
     "prompt_number": 34
    },
    {
     "cell_type": "heading",
     "level": 2,
     "metadata": {},
     "source": [
      "Parameter mapping sonification"
     ]
    },
    {
     "cell_type": "markdown",
     "metadata": {},
     "source": [
      "Get financial data through a web API:"
     ]
    },
    {
     "cell_type": "code",
     "collapsed": false,
     "input": [
      "import xml.etree.ElementTree as ET\n",
      "import urllib2\n",
      "from datetime import datetime\n",
      "\n",
      "symbols = 'MSFT', 'GOOG'\n",
      "\n",
      "data = {}\n",
      "\n",
      "for symbol in symbols:\n",
      "    url = 'http://chartapi.finance.yahoo.com/instrument/1.0/' + \\\n",
      "        symbol + '/chartdata;type=quote;range=1y/xml'\n",
      "    f = urllib2.urlopen(url)\n",
      "    root = ET.fromstring(f.read())\n",
      "    \n",
      "    dates = []\n",
      "    values = []\n",
      "    for v in root[2].findall('p'):\n",
      "        dateval = v.attrib['ref']\n",
      "        date = datetime(year=int(dateval[0:4]), month=int(dateval[4:6]), day=int(dateval[6:8])) \n",
      "        dates.append(date)\n",
      "        entryvalues = []\n",
      "        for num in v:\n",
      "            entryvalues.append(float(num.text))\n",
      "        values.append(entryvalues)\n",
      "    data[symbol] = [dates, array(values)]"
     ],
     "language": "python",
     "metadata": {},
     "outputs": [],
     "prompt_number": 35
    },
    {
     "cell_type": "code",
     "collapsed": false,
     "input": [
      "cs.fill_table(1,data['GOOG'][1][:,1] - min(data['GOOG'][1][:,1]) )\n",
      "cs.fill_table(2,data['MSFT'][1][:,1] - min(data['MSFT'][1][:,1]) )"
     ],
     "language": "python",
     "metadata": {},
     "outputs": [],
     "prompt_number": 36
    },
    {
     "cell_type": "code",
     "collapsed": false,
     "input": [
      "cs.plot_table(1)\n",
      "title('GOOG')"
     ],
     "language": "python",
     "metadata": {},
     "outputs": [
      {
       "metadata": {},
       "output_type": "pyout",
       "prompt_number": 37,
       "text": [
        "<matplotlib.text.Text at 0x7fd4b56a0d90>"
       ]
      },
      {
       "metadata": {},
       "output_type": "display_data",
       "png": "[encoded data removed]",
       "text": [
        "<matplotlib.figure.Figure at 0x7fd4b54d3050>"
       ]
      }
     ],
     "prompt_number": 37
    },
    {
     "cell_type": "code",
     "collapsed": false,
     "input": [
      "cs.plot_table(2)\n",
      "title('MSFT')"
     ],
     "language": "python",
     "metadata": {},
     "outputs": [
      {
       "metadata": {},
       "output_type": "pyout",
       "prompt_number": 38,
       "text": [
        "<matplotlib.text.Text at 0x7fd4b54b5cd0>"
       ]
      },
      {
       "metadata": {},
       "output_type": "display_data",
       "png": "[encoded data removed]",
       "text": [
        "<matplotlib.figure.Figure at 0x7fd4b55b4450>"
       ]
      }
     ],
     "prompt_number": 38
    },
    {
     "cell_type": "code",
     "collapsed": false,
     "input": [
      "%%csound\n",
      "gisine ftgen 0, 0, 4096, 10, 1\n",
      "\n",
      "instr 5\n",
      "\n",
      "    amoddepth poscil 1/2, 1/p3, 2\n",
      "    acarfreq poscil 3, 1/p3, 1\n",
      "    acmratio = amoddepth*10\n",
      "\n",
      "    aphs phasor 220 + acarfreq\n",
      "    \n",
      "    aphsmod oscili amoddepth/2, acarfreq*( acmratio)\n",
      "\n",
      "    asig table3 aphs + aphsmod, gisine, 1, 0, 1\n",
      "    aenv linen 0.2, 0.01, p3, 0.01\n",
      "    outs asig*aenv, asig*aenv\n",
      "\n",
      "endin"
     ],
     "language": "python",
     "metadata": {},
     "outputs": [],
     "prompt_number": 39
    },
    {
     "cell_type": "code",
     "collapsed": false,
     "input": [
      "cs.send_score('i 5 0 20')"
     ],
     "language": "python",
     "metadata": {},
     "outputs": [],
     "prompt_number": 40
    },
    {
     "cell_type": "code",
     "collapsed": false,
     "input": [
      "cs.send_score('i -5 0 20')"
     ],
     "language": "python",
     "metadata": {},
     "outputs": []
    },
    {
     "cell_type": "code",
     "collapsed": false,
     "input": [
      "%%csound\n",
      "gisine ftgen 0, 0, 4096, 10, 1\n",
      "\n",
      "instr 7\n",
      "\n",
      "    kratiofactor chnget \"factor\"\n",
      "    amoddepth poscil 1/2, 1/p3, 2\n",
      "    acarfreq poscil 3, 1/p3, 1\n",
      "    acmratio = amoddepth*kratiofactor\n",
      "\n",
      "    aphs phasor 220 + acarfreq\n",
      "    \n",
      "    aphsmod oscili amoddepth/2, acarfreq*( acmratio)\n",
      "\n",
      "    asig table3 aphs + aphsmod, gisine, 1, 0, 1\n",
      "    aenv linen 0.2, 0.01, p3, 0.01\n",
      "    outs asig*aenv, asig*aenv\n",
      "\n",
      "endin"
     ],
     "language": "python",
     "metadata": {},
     "outputs": [],
     "prompt_number": 41
    },
    {
     "cell_type": "code",
     "collapsed": false,
     "input": [
      "cs.send_score('i 7 0 40')"
     ],
     "language": "python",
     "metadata": {},
     "outputs": [],
     "prompt_number": 42
    },
    {
     "cell_type": "code",
     "collapsed": false,
     "input": [
      "cs.set_channel(\"factor\", 0.1)"
     ],
     "language": "python",
     "metadata": {},
     "outputs": [],
     "prompt_number": 45
    },
    {
     "cell_type": "code",
     "collapsed": false,
     "input": [
      "cs.plot_table(1)\n",
      "cs.plot_table(2)"
     ],
     "language": "python",
     "metadata": {},
     "outputs": [
      {
       "metadata": {},
       "output_type": "display_data",
       "png": "[encoded data removed]",
       "text": [
        "<matplotlib.figure.Figure at 0x7fd4b564cc10>"
       ]
      },
      {
       "metadata": {},
       "output_type": "display_data",
       "png": "[encoded data removed]",
       "text": [
        "<matplotlib.figure.Figure at 0x7fd4b564cc50>"
       ]
      }
     ],
     "prompt_number": 46
    },
    {
     "cell_type": "heading",
     "level": 2,
     "metadata": {},
     "source": [
      "Other tests"
     ]
    },
    {
     "cell_type": "markdown",
     "metadata": {},
     "source": [
      "Another engine:"
     ]
    },
    {
     "cell_type": "code",
     "collapsed": false,
     "input": [
      "ics = icsound.icsound()"
     ],
     "language": "python",
     "metadata": {},
     "outputs": []
    },
    {
     "cell_type": "code",
     "collapsed": false,
     "input": [
      "ics.start_engine(buffersize=64)"
     ],
     "language": "python",
     "metadata": {},
     "outputs": []
    },
    {
     "cell_type": "code",
     "collapsed": false,
     "input": [
      "ics.list_interfaces()"
     ],
     "language": "python",
     "metadata": {},
     "outputs": []
    },
    {
     "cell_type": "code",
     "collapsed": false,
     "input": [
      "%%csound\n",
      "\n",
      "instr 1\n",
      "asig oscil 0.5, 440\n",
      "outs asig, asig\n",
      "endin"
     ],
     "language": "python",
     "metadata": {},
     "outputs": []
    },
    {
     "cell_type": "code",
     "collapsed": false,
     "input": [
      "ics.send_score(\"i 1 0 0.5\")"
     ],
     "language": "python",
     "metadata": {},
     "outputs": []
    },
    {
     "cell_type": "code",
     "collapsed": false,
     "input": [
      "ics.stop_engine()"
     ],
     "language": "python",
     "metadata": {},
     "outputs": []
    },
    {
     "cell_type": "code",
     "collapsed": false,
     "input": [
      "del ics"
     ],
     "language": "python",
     "metadata": {},
     "outputs": []
    }
   ],
   "metadata": {}
  }
 ]
}